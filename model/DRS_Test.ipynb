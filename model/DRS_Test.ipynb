{
 "cells": [
  {
   "cell_type": "code",
   "execution_count": 1,
   "id": "f7cbd1dc-ef21-490f-8938-742dfb0b8419",
   "metadata": {},
   "outputs": [
    {
     "name": "stdout",
     "output_type": "stream",
     "text": [
      "   ML_Risk_Score  Dynamic_Risk_Score Risk_Category\n",
      "0       85.00006            85.00006     VERY HIGH\n"
     ]
    }
   ],
   "source": [
    "import pandas as pd\n",
    "import pickle\n",
    "\n",
    "# Load the saved model\n",
    "with open('stacking_regressor_model.pkl', 'rb') as file:\n",
    "    loaded_model = pickle.load(file)\n",
    "\n",
    "# Example: New input data for prediction\n",
    "new_data = pd.DataFrame({\n",
    "    \"Age\": [30],\n",
    "    \"Gender\": [1],  # Assuming label encoding (0: Male, 1: Female)\n",
    "    \"Country\": [0],  # Assuming label encoding (0: China, 1: Singapore)\n",
    "    \"Vehicle_Make\": [1],\n",
    "    \"Vehicle_Model\": [2],\n",
    "    \"Vehicle_Year\": [2021],\n",
    "    \"Autonomy_Level\": [1],\n",
    "    \"Coverage_Type\": [2],\n",
    "    \"Annual_Premium\": [1300],\n",
    "    \"Deductible\": [400],\n",
    "    \"Claim_History\": [1],\n",
    "    \"Claim_Amount\": [2000],\n",
    "    \"Safety_Score\": [85],\n",
    "    \"Num_Accidents\": [0],\n",
    "    \"IoT_Monitoring\": [1],\n",
    "    \"Past_Fraud_Record\": [0]\n",
    "})\n",
    "\n",
    "# Make predictions using the loaded model\n",
    "ml_risk_score = loaded_model.predict(new_data)\n",
    "\n",
    "# Apply the rule-based criteria to calculate the Dynamic Risk Score\n",
    "def calculate_dynamic_risk_score(row):\n",
    "    risk_score = row[\"ML_Risk_Score\"]\n",
    "    if row[\"Num_Accidents\"] >= 3:\n",
    "        risk_score += 10\n",
    "    if row[\"Past_Fraud_Record\"] == 1:\n",
    "        risk_score += 20\n",
    "    return risk_score\n",
    "\n",
    "new_data[\"ML_Risk_Score\"] = ml_risk_score\n",
    "new_data[\"Dynamic_Risk_Score\"] = new_data.apply(calculate_dynamic_risk_score, axis=1)\n",
    "\n",
    "# Categorize the Dynamic Risk Score\n",
    "def categorize_risk(drs):\n",
    "    if drs < 40:\n",
    "        return \"LOW\"\n",
    "    elif 40 <= drs < 60:\n",
    "        return \"MEDIUM\"\n",
    "    elif 60 <= drs < 70:\n",
    "        return \"HIGH A\"\n",
    "    elif 70 <= drs < 80:\n",
    "        return \"HIGH B\"\n",
    "    else:\n",
    "        return \"VERY HIGH\"\n",
    "\n",
    "new_data[\"Risk_Category\"] = new_data[\"Dynamic_Risk_Score\"].apply(categorize_risk)\n",
    "\n",
    "# Display the prediction results\n",
    "print(new_data[[\"ML_Risk_Score\", \"Dynamic_Risk_Score\", \"Risk_Category\"]])\n"
   ]
  },
  {
   "cell_type": "code",
   "execution_count": null,
   "id": "287295e9-3630-4db6-a512-6efaebb48b04",
   "metadata": {},
   "outputs": [],
   "source": []
  }
 ],
 "metadata": {
  "kernelspec": {
   "display_name": "Python 3 (ipykernel)",
   "language": "python",
   "name": "python3"
  },
  "language_info": {
   "codemirror_mode": {
    "name": "ipython",
    "version": 3
   },
   "file_extension": ".py",
   "mimetype": "text/x-python",
   "name": "python",
   "nbconvert_exporter": "python",
   "pygments_lexer": "ipython3",
   "version": "3.12.3"
  }
 },
 "nbformat": 4,
 "nbformat_minor": 5
}
